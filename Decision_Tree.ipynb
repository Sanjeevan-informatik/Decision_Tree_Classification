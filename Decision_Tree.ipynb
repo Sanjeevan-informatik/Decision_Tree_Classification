{
  "nbformat": 4,
  "nbformat_minor": 0,
  "metadata": {
    "kernelspec": {
      "display_name": "Python 3",
      "language": "python",
      "name": "python3"
    },
    "language_info": {
      "codemirror_mode": {
        "name": "ipython",
        "version": 3
      },
      "file_extension": ".py",
      "mimetype": "text/x-python",
      "name": "python",
      "nbconvert_exporter": "python",
      "pygments_lexer": "ipython3",
      "version": "3.7.3"
    },
    "colab": {
      "name": "Decision_Tree.ipynb",
      "provenance": []
    }
  },
  "cells": [
    {
      "cell_type": "code",
      "metadata": {
        "id": "SfjOHg37tvfz",
        "colab_type": "code",
        "colab": {}
      },
      "source": [
        "import numpy as np\n",
        "import pandas as pd\n",
        "\n",
        "import matplotlib.pyplot as plt\n",
        "import seaborn as sns\n",
        "\n",
        "import random\n",
        "from pprint import pprint\n",
        "\n",
        "%matplotlib inline\n",
        "sns.set_style(\"darkgrid\")\n"
      ],
      "execution_count": 0,
      "outputs": []
    },
    {
      "cell_type": "code",
      "metadata": {
        "id": "NdcCNamotvgV",
        "colab_type": "code",
        "colab": {}
      },
      "source": [
        "df = pd.read_csv(\"Iris.csv\")\n",
        "df = df.drop(\"Id\", axis=1)\n",
        "df = df.rename(columns={\"species\": \"label\"})"
      ],
      "execution_count": 0,
      "outputs": []
    },
    {
      "cell_type": "code",
      "metadata": {
        "id": "u8ylm6ratvgj",
        "colab_type": "code",
        "colab": {
          "base_uri": "https://localhost:8080/",
          "height": 204
        },
        "outputId": "2ad34e94-0947-40d7-d6eb-3b52f23e1267"
      },
      "source": [
        "df.head()"
      ],
      "execution_count": 25,
      "outputs": [
        {
          "output_type": "execute_result",
          "data": {
            "text/html": [
              "<div>\n",
              "<style scoped>\n",
              "    .dataframe tbody tr th:only-of-type {\n",
              "        vertical-align: middle;\n",
              "    }\n",
              "\n",
              "    .dataframe tbody tr th {\n",
              "        vertical-align: top;\n",
              "    }\n",
              "\n",
              "    .dataframe thead th {\n",
              "        text-align: right;\n",
              "    }\n",
              "</style>\n",
              "<table border=\"1\" class=\"dataframe\">\n",
              "  <thead>\n",
              "    <tr style=\"text-align: right;\">\n",
              "      <th></th>\n",
              "      <th>sepal_length</th>\n",
              "      <th>sepal_width</th>\n",
              "      <th>petal_length</th>\n",
              "      <th>petal_width</th>\n",
              "      <th>label</th>\n",
              "    </tr>\n",
              "  </thead>\n",
              "  <tbody>\n",
              "    <tr>\n",
              "      <th>0</th>\n",
              "      <td>5.1</td>\n",
              "      <td>3.5</td>\n",
              "      <td>1.4</td>\n",
              "      <td>0.2</td>\n",
              "      <td>Iris-setosa</td>\n",
              "    </tr>\n",
              "    <tr>\n",
              "      <th>1</th>\n",
              "      <td>4.9</td>\n",
              "      <td>3.0</td>\n",
              "      <td>1.4</td>\n",
              "      <td>0.2</td>\n",
              "      <td>Iris-setosa</td>\n",
              "    </tr>\n",
              "    <tr>\n",
              "      <th>2</th>\n",
              "      <td>4.7</td>\n",
              "      <td>3.2</td>\n",
              "      <td>1.3</td>\n",
              "      <td>0.2</td>\n",
              "      <td>Iris-setosa</td>\n",
              "    </tr>\n",
              "    <tr>\n",
              "      <th>3</th>\n",
              "      <td>4.6</td>\n",
              "      <td>3.1</td>\n",
              "      <td>1.5</td>\n",
              "      <td>0.2</td>\n",
              "      <td>Iris-setosa</td>\n",
              "    </tr>\n",
              "    <tr>\n",
              "      <th>4</th>\n",
              "      <td>5.0</td>\n",
              "      <td>3.6</td>\n",
              "      <td>1.4</td>\n",
              "      <td>0.2</td>\n",
              "      <td>Iris-setosa</td>\n",
              "    </tr>\n",
              "  </tbody>\n",
              "</table>\n",
              "</div>"
            ],
            "text/plain": [
              "   sepal_length  sepal_width  petal_length  petal_width        label\n",
              "0           5.1          3.5           1.4          0.2  Iris-setosa\n",
              "1           4.9          3.0           1.4          0.2  Iris-setosa\n",
              "2           4.7          3.2           1.3          0.2  Iris-setosa\n",
              "3           4.6          3.1           1.5          0.2  Iris-setosa\n",
              "4           5.0          3.6           1.4          0.2  Iris-setosa"
            ]
          },
          "metadata": {
            "tags": []
          },
          "execution_count": 25
        }
      ]
    },
    {
      "cell_type": "code",
      "metadata": {
        "id": "p_7U6sehtvg0",
        "colab_type": "code",
        "colab": {}
      },
      "source": [
        "def train_test_split(df, test_size):\n",
        "    \n",
        "    if isinstance(test_size, float):\n",
        "        test_size = round(test_size * len(df))\n",
        "\n",
        "    indices = df.index.tolist()\n",
        "    test_indices = random.sample(population=indices, k=test_size)\n",
        "\n",
        "    test_df = df.loc[test_indices]\n",
        "    train_df = df.drop(test_indices)\n",
        "    \n",
        "    return train_df, test_df"
      ],
      "execution_count": 0,
      "outputs": []
    },
    {
      "cell_type": "code",
      "metadata": {
        "id": "g0dQMZSXtvhF",
        "colab_type": "code",
        "colab": {}
      },
      "source": [
        "random.seed(0)\n",
        "train_df, test_df = train_test_split(df, test_size=20)"
      ],
      "execution_count": 0,
      "outputs": []
    },
    {
      "cell_type": "code",
      "metadata": {
        "id": "XeCbICymtvhf",
        "colab_type": "code",
        "colab": {}
      },
      "source": [
        "def check_purity(data):\n",
        "    \n",
        "    label_column = data[:, -1]\n",
        "    unique_classes = np.unique(label_column)\n",
        "\n",
        "    if len(unique_classes) == 1:\n",
        "        return True\n",
        "    else:\n",
        "        return False"
      ],
      "execution_count": 0,
      "outputs": []
    },
    {
      "cell_type": "markdown",
      "metadata": {
        "id": "ulsKmKwKtvhq",
        "colab_type": "text"
      },
      "source": [
        "### Classify"
      ]
    },
    {
      "cell_type": "code",
      "metadata": {
        "id": "NAOc-41Ktvhr",
        "colab_type": "code",
        "colab": {}
      },
      "source": [
        "def classify_data(data):\n",
        "    \n",
        "    label_column = data[:, -1]\n",
        "    unique_classes, counts_unique_classes = np.unique(label_column, return_counts=True)\n",
        "\n",
        "    index = counts_unique_classes.argmax()\n",
        "    classification = unique_classes[index]\n",
        "    \n",
        "    return classification\n",
        "\n",
        "\n",
        "def get_potential_splits(data):\n",
        "    \n",
        "    potential_splits = {}\n",
        "    _, n_columns = data.shape\n",
        "    for column_index in range(n_columns - 1):        # excluding the last column which is the label\n",
        "        potential_splits[column_index] = []\n",
        "        values = data[:, column_index]\n",
        "        unique_values = np.unique(values)\n",
        "\n",
        "        for index in range(len(unique_values)):\n",
        "            if index != 0:\n",
        "                current_value = unique_values[index]\n",
        "                previous_value = unique_values[index - 1]\n",
        "                potential_split = (current_value + previous_value) / 2\n",
        "                \n",
        "                potential_splits[column_index].append(potential_split)\n",
        "    \n",
        "    return potential_splits\n",
        "\n",
        "\n",
        "def split_data(data, split_column, split_value):\n",
        "    \n",
        "    split_column_values = data[:, split_column]\n",
        "\n",
        "    data_below = data[split_column_values <= split_value]\n",
        "    data_above = data[split_column_values >  split_value]\n",
        "    \n",
        "    return data_below, data_above\n",
        "\n",
        "\n",
        "def calculate_entropy(data):\n",
        "    \n",
        "    label_column = data[:, -1]\n",
        "    _, counts = np.unique(label_column, return_counts=True)\n",
        "\n",
        "    probabilities = counts / counts.sum()\n",
        "    entropy = sum(probabilities * -np.log2(probabilities))\n",
        "     \n",
        "    return entropy\n",
        "\n",
        "\n",
        "def calculate_overall_entropy(data_below, data_above):\n",
        "    \n",
        "    n = len(data_below) + len(data_above)\n",
        "    p_data_below = len(data_below) / n\n",
        "    p_data_above = len(data_above) / n\n",
        "\n",
        "    overall_entropy =  (p_data_below * calculate_entropy(data_below) \n",
        "                      + p_data_above * calculate_entropy(data_above))\n",
        "    \n",
        "    return overall_entropy\n",
        "\n",
        "def determine_best_split(data, potential_splits):\n",
        "    \n",
        "    overall_entropy = 9999\n",
        "    for column_index in potential_splits:\n",
        "        for value in potential_splits[column_index]:\n",
        "            data_below, data_above = split_data(data, split_column=column_index, split_value=value)\n",
        "            current_overall_entropy = calculate_overall_entropy(data_below, data_above)\n",
        "\n",
        "            if current_overall_entropy <= overall_entropy:\n",
        "                overall_entropy = current_overall_entropy\n",
        "                best_split_column = column_index\n",
        "                best_split_value = value\n",
        "    \n",
        "    return best_split_column, best_split_value"
      ],
      "execution_count": 0,
      "outputs": []
    },
    {
      "cell_type": "markdown",
      "metadata": {
        "id": "cLzy11bTtvi9",
        "colab_type": "text"
      },
      "source": [
        "# Decision Tree Algorithm"
      ]
    },
    {
      "cell_type": "code",
      "metadata": {
        "id": "K_5PfiA_tvjg",
        "colab_type": "code",
        "colab": {}
      },
      "source": [
        "def decision_tree_algorithm(df, counter=0, min_samples=2, max_depth=5):\n",
        "    \n",
        "    # data preparations\n",
        "    if counter == 0:\n",
        "        global COLUMN_HEADERS\n",
        "        COLUMN_HEADERS = df.columns\n",
        "        data = df.values\n",
        "    else:\n",
        "        data = df           \n",
        "    \n",
        "    \n",
        "    # base cases\n",
        "    if (check_purity(data)) or (len(data) < min_samples) or (counter == max_depth):\n",
        "        classification = classify_data(data)\n",
        "        \n",
        "        return classification\n",
        "\n",
        "    \n",
        "    # recursive part\n",
        "    else:    \n",
        "        counter += 1\n",
        "\n",
        "        # helper functions \n",
        "        potential_splits = get_potential_splits(data)\n",
        "        split_column, split_value = determine_best_split(data, potential_splits)\n",
        "        data_below, data_above = split_data(data, split_column, split_value)\n",
        "        \n",
        "        # instantiate sub-tree\n",
        "        feature_name = COLUMN_HEADERS[split_column]\n",
        "        question = \"{} <= {}\".format(feature_name, split_value)\n",
        "        sub_tree = {question: []}\n",
        "        \n",
        "        # find answers (recursion)\n",
        "        yes_answer = decision_tree_algorithm(data_below, counter, min_samples, max_depth)\n",
        "        no_answer = decision_tree_algorithm(data_above, counter, min_samples, max_depth)\n",
        "        \n",
        "        # If the answers are the same, then there is no point in asking the qestion.\n",
        "        # This could happen when the data is classified even though it is not pure\n",
        "        # yet (min_samples or max_depth base cases).\n",
        "        if yes_answer == no_answer:\n",
        "            sub_tree = yes_answer\n",
        "        else:\n",
        "            sub_tree[question].append(yes_answer)\n",
        "            sub_tree[question].append(no_answer)\n",
        "        \n",
        "        return sub_tree"
      ],
      "execution_count": 0,
      "outputs": []
    },
    {
      "cell_type": "code",
      "metadata": {
        "id": "iciVambXtvjp",
        "colab_type": "code",
        "colab": {
          "base_uri": "https://localhost:8080/",
          "height": 85
        },
        "outputId": "7526818e-cb48-4b21-b723-14929bdbbc8c"
      },
      "source": [
        "tree = decision_tree_algorithm(train_df, max_depth=3)\n",
        "pprint(tree)"
      ],
      "execution_count": 31,
      "outputs": [
        {
          "output_type": "stream",
          "text": [
            "{'petal_width <= 0.8': ['Iris-setosa',\n",
            "                        {'petal_width <= 1.65': [{'petal_length <= 4.95': ['Iris-versicolor',\n",
            "                                                                           'Iris-virginica']},\n",
            "                                                 'Iris-virginica']}]}\n"
          ],
          "name": "stdout"
        }
      ]
    },
    {
      "cell_type": "markdown",
      "metadata": {
        "id": "N1YDlk0ttvjx",
        "colab_type": "text"
      },
      "source": [
        "# Classification"
      ]
    },
    {
      "cell_type": "code",
      "metadata": {
        "id": "bB4OsUzLtvkE",
        "colab_type": "code",
        "colab": {}
      },
      "source": [
        "def classify_example(example, tree):\n",
        "    question = list(tree.keys())[0]\n",
        "    feature_name, comparison_operator, value = question.split()\n",
        "\n",
        "    # ask question\n",
        "    if example[feature_name] <= float(value):\n",
        "        answer = tree[question][0]\n",
        "    else:\n",
        "        answer = tree[question][1]\n",
        "\n",
        "    # base case\n",
        "    if not isinstance(answer, dict):\n",
        "        return answer\n",
        "    \n",
        "    # recursive part\n",
        "    else:\n",
        "        residual_tree = answer\n",
        "        return classify_example(example, residual_tree)"
      ],
      "execution_count": 0,
      "outputs": []
    },
    {
      "cell_type": "code",
      "metadata": {
        "id": "P_FVS1BgtvkP",
        "colab_type": "code",
        "colab": {
          "base_uri": "https://localhost:8080/",
          "height": 34
        },
        "outputId": "2e9ac7b6-5e6b-4d2c-d58a-2074f261ab30"
      },
      "source": [
        "classify_example(example, tree)"
      ],
      "execution_count": 33,
      "outputs": [
        {
          "output_type": "execute_result",
          "data": {
            "text/plain": [
              "'Iris-versicolor'"
            ]
          },
          "metadata": {
            "tags": []
          },
          "execution_count": 33
        }
      ]
    },
    {
      "cell_type": "markdown",
      "metadata": {
        "id": "zTEUurvDtvke",
        "colab_type": "text"
      },
      "source": [
        "# Calculate Accuracy"
      ]
    },
    {
      "cell_type": "code",
      "metadata": {
        "id": "rdWzdCXqtvkg",
        "colab_type": "code",
        "colab": {}
      },
      "source": [
        "def calculate_accuracy(df, tree):\n",
        "\n",
        "    df[\"classification\"] = df.apply(classify_example, axis=1, args=(tree,))\n",
        "    df[\"classification_correct\"] = df[\"classification\"] == df[\"label\"]\n",
        "    \n",
        "    accuracy = df[\"classification_correct\"].mean()\n",
        "    \n",
        "    return accuracy"
      ],
      "execution_count": 0,
      "outputs": []
    },
    {
      "cell_type": "code",
      "metadata": {
        "id": "KxiuoCEvtvko",
        "colab_type": "code",
        "colab": {
          "base_uri": "https://localhost:8080/",
          "height": 34
        },
        "outputId": "be52c772-b225-4818-cfda-5a4b58eaa2e7"
      },
      "source": [
        "accuracy = calculate_accuracy(test_df, tree)\n",
        "accuracy"
      ],
      "execution_count": 35,
      "outputs": [
        {
          "output_type": "execute_result",
          "data": {
            "text/plain": [
              "0.95"
            ]
          },
          "metadata": {
            "tags": []
          },
          "execution_count": 35
        }
      ]
    },
    {
      "cell_type": "code",
      "metadata": {
        "jupyter": {
          "outputs_hidden": true
        },
        "id": "2oQZDGSstvkw",
        "colab_type": "code",
        "colab": {}
      },
      "source": [
        ""
      ],
      "execution_count": 0,
      "outputs": []
    }
  ]
}